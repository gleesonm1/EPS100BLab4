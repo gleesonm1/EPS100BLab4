{
 "cells": [
  {
   "cell_type": "code",
   "execution_count": 1,
   "metadata": {},
   "outputs": [],
   "source": [
    "import numpy as np\n",
    "import pandas as pd\n",
    "import matplotlib.pyplot as plt\n",
    "from IPython.display import Image"
   ]
  },
  {
   "cell_type": "code",
   "execution_count": null,
   "metadata": {},
   "outputs": [],
   "source": [
    "!pip uninstall pyMelt"
   ]
  },
  {
   "cell_type": "markdown",
   "metadata": {},
   "source": [
    "# Week 4 - (i) Trace elements in basalts; (ii) calc-alkaline vs tholeiitic trends"
   ]
  },
  {
   "cell_type": "markdown",
   "metadata": {},
   "source": [
    "Before we move on to andesites, rhyolites, explosive volcanic deposits, and pluton formation (and I guess sedimentary and metamorphic rocks should be mentioned as well), we have one last aspect of basalts, or primary mantle melts more generally, that we need to look at.\n",
    "\n",
    "Trace elements and radiogenic isotopes have been critical tools over the last 4 or 5 decades for investigating the origin of basaltic magmas, and the composition of their source regions (i.e., the underlying mantle). These data have demonstrated that mid-ocean ridge basalts, which form through melting of upwelling upper mantle material, sample a 'long term depleted' mantle reservoir; i.e., likely during the formation of the continental crust, melt was extracted from the early mantle leaving a residue with a depleted signature relative to the bulk earth. \n",
    "\n",
    "Ocean island basalts, on the other hand, appear to form from melting of a variety of sources - some of which are depleted (as in MORBs), some retain a primordial signature (in their He isotopes), and some possess characteristics expected for subducted crustal material that has been recycled throught the Earth's mantle. In general, it appears that OIBs are formed from melting of less depleted sources (relative to the depleted upper mantle), and lower extents of melting than typical for the formation of MORBs.\n",
    "\n",
    "Finally, arc basalts (and primary arc andesites) typically contain elevated concentrations of trace elements that partition strongly into hydrous fluids (known as fluid-mobile trace elements). The largest group of fluid-mobile trace elements are the Large Ion Lithophile Elements (LILE), such as Ba or Rb. "
   ]
  },
  {
   "cell_type": "markdown",
   "metadata": {},
   "source": [
    "![alt text](https://ars.els-cdn.com/content/image/1-s2.0-S1674987119300428-gr2.jpg)"
   ]
  },
  {
   "cell_type": "markdown",
   "metadata": {},
   "source": [
    "## Question 1 - Volcanic progression in ocean islands"
   ]
  },
  {
   "cell_type": "markdown",
   "metadata": {},
   "source": [
    "Lets first look into more detail at ocean island basalts and how they evolve through time. To do this, we're going to compare data from Mauna Loa and Mauna Kea volcanoes on Hawai'i. Mauna Loa is currently in its shield phase of activity and, as typical for Hawaiian volcanoes in their 'main stage' erupts olivine tholeiites (last eruption in November to December 2022!). Mauna Kea is located to the north of Mauna Loa, slightly further from the centre of plume upwelling. Mauna Kea is less active and is now in its post-shield stage of activity, characterised by the infrequent eruption of alkali basalts at the surface. There are distinct trace element differences between the shield stage Mauna Loa lavas and the post-shield stage Mauna Kea lavas, lets try and think about why!\n",
    "\n",
    "First lets load and plot the data (if you're doing this lab in a Jupyter Notebook you'll be able to modify plots/analyse the data yourselves)."
   ]
  },
  {
   "cell_type": "markdown",
   "metadata": {},
   "source": [
    "**Actually first lets just look at a photo of the last Mauna Loa eruption taken from the summit of Mauna Kea**\n",
    "\n",
    "![alt text](https://www.khon2.com/wp-content/uploads/sites/8/2022/12/thumbnail_ALOHA-AUTHENTIC-lava-and-snow-contrast-PKG.transfer_frame_4271.jpg?w=1280)"
   ]
  },
  {
   "cell_type": "code",
   "execution_count": 2,
   "metadata": {},
   "outputs": [
    {
     "data": {
      "text/html": [
       "<div>\n",
       "<style scoped>\n",
       "    .dataframe tbody tr th:only-of-type {\n",
       "        vertical-align: middle;\n",
       "    }\n",
       "\n",
       "    .dataframe tbody tr th {\n",
       "        vertical-align: top;\n",
       "    }\n",
       "\n",
       "    .dataframe thead th {\n",
       "        text-align: right;\n",
       "    }\n",
       "</style>\n",
       "<table border=\"1\" class=\"dataframe\">\n",
       "  <thead>\n",
       "    <tr style=\"text-align: right;\">\n",
       "      <th></th>\n",
       "      <th>Location</th>\n",
       "      <th>SiO2_Liq</th>\n",
       "      <th>TiO2_Liq</th>\n",
       "      <th>Al2O3_Liq</th>\n",
       "      <th>FeOt_Liq</th>\n",
       "      <th>CaO_Liq</th>\n",
       "      <th>MgO_Liq</th>\n",
       "      <th>MnO_Liq</th>\n",
       "      <th>K2O_Liq</th>\n",
       "      <th>Na2O_Liq</th>\n",
       "      <th>...</th>\n",
       "      <th>Ta</th>\n",
       "      <th>Tl</th>\n",
       "      <th>Pb</th>\n",
       "      <th>Th</th>\n",
       "      <th>U</th>\n",
       "      <th>Nd143</th>\n",
       "      <th>Sr87</th>\n",
       "      <th>Pb206</th>\n",
       "      <th>Pb207</th>\n",
       "      <th>Pb208</th>\n",
       "    </tr>\n",
       "  </thead>\n",
       "  <tbody>\n",
       "    <tr>\n",
       "      <th>0</th>\n",
       "      <td>Kilauea</td>\n",
       "      <td>73.220614</td>\n",
       "      <td>0.660257</td>\n",
       "      <td>13.076286</td>\n",
       "      <td>1.347629</td>\n",
       "      <td>0.034700</td>\n",
       "      <td>0.140900</td>\n",
       "      <td>0.017743</td>\n",
       "      <td>7.394843</td>\n",
       "      <td>4.012971</td>\n",
       "      <td>...</td>\n",
       "      <td>NaN</td>\n",
       "      <td>0.319400</td>\n",
       "      <td>NaN</td>\n",
       "      <td>NaN</td>\n",
       "      <td>NaN</td>\n",
       "      <td>NaN</td>\n",
       "      <td>NaN</td>\n",
       "      <td>NaN</td>\n",
       "      <td>NaN</td>\n",
       "      <td>NaN</td>\n",
       "    </tr>\n",
       "    <tr>\n",
       "      <th>1</th>\n",
       "      <td>Kilauea</td>\n",
       "      <td>70.909600</td>\n",
       "      <td>1.294775</td>\n",
       "      <td>13.705550</td>\n",
       "      <td>2.974175</td>\n",
       "      <td>0.654850</td>\n",
       "      <td>0.403325</td>\n",
       "      <td>0.035850</td>\n",
       "      <td>4.848925</td>\n",
       "      <td>3.674025</td>\n",
       "      <td>...</td>\n",
       "      <td>6.44</td>\n",
       "      <td>0.208667</td>\n",
       "      <td>NaN</td>\n",
       "      <td>14.7500</td>\n",
       "      <td>5.2325</td>\n",
       "      <td>NaN</td>\n",
       "      <td>NaN</td>\n",
       "      <td>NaN</td>\n",
       "      <td>NaN</td>\n",
       "      <td>NaN</td>\n",
       "    </tr>\n",
       "    <tr>\n",
       "      <th>2</th>\n",
       "      <td>Kilauea</td>\n",
       "      <td>71.068650</td>\n",
       "      <td>0.884467</td>\n",
       "      <td>13.361300</td>\n",
       "      <td>4.666633</td>\n",
       "      <td>1.752333</td>\n",
       "      <td>0.524583</td>\n",
       "      <td>0.079817</td>\n",
       "      <td>3.483600</td>\n",
       "      <td>3.571800</td>\n",
       "      <td>...</td>\n",
       "      <td>3.12</td>\n",
       "      <td>0.146779</td>\n",
       "      <td>NaN</td>\n",
       "      <td>7.1825</td>\n",
       "      <td>2.5450</td>\n",
       "      <td>NaN</td>\n",
       "      <td>NaN</td>\n",
       "      <td>NaN</td>\n",
       "      <td>NaN</td>\n",
       "      <td>NaN</td>\n",
       "    </tr>\n",
       "    <tr>\n",
       "      <th>3</th>\n",
       "      <td>Kilauea</td>\n",
       "      <td>69.116400</td>\n",
       "      <td>1.116150</td>\n",
       "      <td>14.620017</td>\n",
       "      <td>2.997367</td>\n",
       "      <td>0.874133</td>\n",
       "      <td>0.607533</td>\n",
       "      <td>0.020667</td>\n",
       "      <td>6.824700</td>\n",
       "      <td>4.445817</td>\n",
       "      <td>...</td>\n",
       "      <td>2.37</td>\n",
       "      <td>0.222000</td>\n",
       "      <td>7.62</td>\n",
       "      <td>9.6300</td>\n",
       "      <td>1.9500</td>\n",
       "      <td>NaN</td>\n",
       "      <td>NaN</td>\n",
       "      <td>NaN</td>\n",
       "      <td>NaN</td>\n",
       "      <td>NaN</td>\n",
       "    </tr>\n",
       "    <tr>\n",
       "      <th>4</th>\n",
       "      <td>Kilauea</td>\n",
       "      <td>67.615714</td>\n",
       "      <td>1.499357</td>\n",
       "      <td>15.322814</td>\n",
       "      <td>3.155314</td>\n",
       "      <td>1.628957</td>\n",
       "      <td>0.785114</td>\n",
       "      <td>0.027800</td>\n",
       "      <td>4.526729</td>\n",
       "      <td>4.050471</td>\n",
       "      <td>...</td>\n",
       "      <td>NaN</td>\n",
       "      <td>0.257667</td>\n",
       "      <td>NaN</td>\n",
       "      <td>NaN</td>\n",
       "      <td>NaN</td>\n",
       "      <td>NaN</td>\n",
       "      <td>NaN</td>\n",
       "      <td>NaN</td>\n",
       "      <td>NaN</td>\n",
       "      <td>NaN</td>\n",
       "    </tr>\n",
       "  </tbody>\n",
       "</table>\n",
       "<p>5 rows × 50 columns</p>\n",
       "</div>"
      ],
      "text/plain": [
       "  Location   SiO2_Liq  TiO2_Liq  Al2O3_Liq  FeOt_Liq   CaO_Liq   MgO_Liq  \\\n",
       "0  Kilauea  73.220614  0.660257  13.076286  1.347629  0.034700  0.140900   \n",
       "1  Kilauea  70.909600  1.294775  13.705550  2.974175  0.654850  0.403325   \n",
       "2  Kilauea  71.068650  0.884467  13.361300  4.666633  1.752333  0.524583   \n",
       "3  Kilauea  69.116400  1.116150  14.620017  2.997367  0.874133  0.607533   \n",
       "4  Kilauea  67.615714  1.499357  15.322814  3.155314  1.628957  0.785114   \n",
       "\n",
       "    MnO_Liq   K2O_Liq  Na2O_Liq  ...    Ta        Tl    Pb       Th       U  \\\n",
       "0  0.017743  7.394843  4.012971  ...   NaN  0.319400   NaN      NaN     NaN   \n",
       "1  0.035850  4.848925  3.674025  ...  6.44  0.208667   NaN  14.7500  5.2325   \n",
       "2  0.079817  3.483600  3.571800  ...  3.12  0.146779   NaN   7.1825  2.5450   \n",
       "3  0.020667  6.824700  4.445817  ...  2.37  0.222000  7.62   9.6300  1.9500   \n",
       "4  0.027800  4.526729  4.050471  ...   NaN  0.257667   NaN      NaN     NaN   \n",
       "\n",
       "   Nd143  Sr87  Pb206  Pb207  Pb208  \n",
       "0    NaN   NaN    NaN    NaN    NaN  \n",
       "1    NaN   NaN    NaN    NaN    NaN  \n",
       "2    NaN   NaN    NaN    NaN    NaN  \n",
       "3    NaN   NaN    NaN    NaN    NaN  \n",
       "4    NaN   NaN    NaN    NaN    NaN  \n",
       "\n",
       "[5 rows x 50 columns]"
      ]
     },
     "execution_count": 2,
     "metadata": {},
     "output_type": "execute_result"
    }
   ],
   "source": [
    "# load in spreadsheet as a pandas DataFrame. This keeps it in an 'excel' like format. \n",
    "# I've then shown the first 5 rows to give you an idea of how this might look.\n",
    "Hawaii = pd.read_excel('Hawaii.xlsx')\n",
    "Hawaii.head()"
   ]
  },
  {
   "cell_type": "markdown",
   "metadata": {},
   "source": [
    "Now plot the data. We're going to plot two things:\n",
    "\n",
    "<ol>\n",
    "    <li>A plot of MgO vs Ni, a trace element that is highly compatible in olivine.\n",
    "    <li>A plot of MgO vs La, a highly incompatible trace element.\n",
    "</ol>"
   ]
  },
  {
   "cell_type": "code",
   "execution_count": 3,
   "metadata": {},
   "outputs": [
    {
     "data": {
      "text/plain": [
       "Text(0, 0.5, 'La (ppm)')"
      ]
     },
     "execution_count": 3,
     "metadata": {},
     "output_type": "execute_result"
    },
    {
     "data": {
      "image/png": "[encoded data removed]",
      "text/plain": [
       "<Figure size 648x288 with 2 Axes>"
      ]
     },
     "metadata": {
      "needs_background": "light"
     },
     "output_type": "display_data"
    }
   ],
   "source": [
    "f, a = plt.subplots(1,2, figsize = (9,4))\n",
    "a[0].plot(Hawaii['MgO_Liq'][Hawaii['Location'] == 'Mauna Loa'],\n",
    "         Hawaii['Ni'][Hawaii['Location'] == 'Mauna Loa'],\n",
    "         'sk', mfc = 'blue', label = 'Mauna Loa')\n",
    "a[0].plot(Hawaii['MgO_Liq'][Hawaii['Location'] == 'Mauna Kea'],\n",
    "         Hawaii['Ni'][Hawaii['Location'] == 'Mauna Kea'],\n",
    "         'dk', mfc = 'red', label = 'Mauna Kea')\n",
    "\n",
    "a[0].set_xlabel('MgO (wt%)')\n",
    "a[0].set_ylabel('Ni (ppm)')\n",
    "a[0].legend()\n",
    "\n",
    "a[1].plot(Hawaii['MgO_Liq'][Hawaii['Location'] == 'Mauna Loa'],\n",
    "         Hawaii['La'][Hawaii['Location'] == 'Mauna Loa'],\n",
    "         'sk', mfc = 'blue')\n",
    "a[1].plot(Hawaii['MgO_Liq'][Hawaii['Location'] == 'Mauna Kea'],\n",
    "         Hawaii['La'][Hawaii['Location'] == 'Mauna Kea'],\n",
    "         'dk', mfc = 'red')\n",
    "\n",
    "a[1].set_xlabel('MgO (wt%)')\n",
    "a[1].set_ylabel('La (ppm)')\n",
    "#a[1].set_ylim([0, 30])"
   ]
  },
  {
   "cell_type": "markdown",
   "metadata": {},
   "source": [
    "**(6 points)** Looking at the two graphs above, describe what is happening. Are the concentrations of Ni and La increasing or decreasing with magmatic differentiation (fractional crystallisation in this case)? Is this what you would expect to see for these two elements (bonus point if you can explain the 'kink' in the MgO vs La data for Mauna Kea)."
   ]
  },
  {
   "cell_type": "markdown",
   "metadata": {},
   "source": [
    "![alt text](https://blog.trueaccord.com/wp-content/uploads/2019/08/plain-white-rectangle.png)"
   ]
  },
  {
   "cell_type": "markdown",
   "metadata": {},
   "source": [
    "**(6 points)** Using the graph on the RHS, estimate the La content of primary (i.e., unfractionated) mantle melts beneath Mauna Loa and Mauna Kea. You may wish to replot the data by uncommenting the 'set_ylim' line above if you're viewing this in the notebook.\n",
    "\n",
    "**Hint** Primary mantle melts from Hawai'i often have ~16 wt% MgO, and it would be better to estimate a range of possible primary La contents for Mauna Kea, rather than a single value (notice that the data is more heterogeneous than for Mauna Loa - this is common for post-shield stage systems)."
   ]
  },
  {
   "cell_type": "markdown",
   "metadata": {},
   "source": [
    "![alt text](https://blog.trueaccord.com/wp-content/uploads/2019/08/plain-white-rectangle.png)"
   ]
  },
  {
   "cell_type": "markdown",
   "metadata": {},
   "source": [
    "The primitive mantle (often invoked as an important source in the genesis of ocean island basalts) has a La content of ~0.687 ppm (Sun and McDonough, 1989). In the following calculations, we'll assume that basalts erupted at Mauna Loa and at Mauna Kea are produced from melting of the same mantle source with a composition similar to that of the primitive mantle.\n",
    "\n",
    "**(15 points)** Therefore, using a source La concentration of 0.687 ppm, the Accumulated Fractional Melting equation listed below, and a partition coefficient for La during mantle melting of 0.001 ($D_{o}$), calculate the extent of melting ($F$) required to produce the La content of primary basaltic magmas beneath Mauna Loa and Mauna Kea."
   ]
  },
  {
   "cell_type": "markdown",
   "metadata": {},
   "source": [
    "$$ \\frac{C_{melt}}{C_{Solid}^{o}} = \\frac{1}{F}*(1-(1-F)^{\\frac{1}{D_{o}}}) $$"
   ]
  },
  {
   "cell_type": "markdown",
   "metadata": {},
   "source": [
    "![alt text](https://blog.trueaccord.com/wp-content/uploads/2019/08/plain-white-rectangle.png)"
   ]
  },
  {
   "cell_type": "markdown",
   "metadata": {},
   "source": [
    "**(10 points)** Using your results to the previous question, comment on whether shield stage basalts (Mauna Loa) or post-shield stage basalts (Mauna Kea) are formed by higher extents of melting. The post-shield basalts of Mauna Kea are alkali basalts whereas the shield stage basalts of Mauna Loa are classified as olivine tholeiites - is this consistent with the melt fraction estimates you generated above?"
   ]
  },
  {
   "cell_type": "markdown",
   "metadata": {},
   "source": [
    "![alt text](https://blog.trueaccord.com/wp-content/uploads/2019/08/plain-white-rectangle.png)"
   ]
  },
  {
   "cell_type": "markdown",
   "metadata": {},
   "source": [
    "**(5 points)** What other factors, other than the extent of mantle melting, could influence the La content of primary mantle melts beneath Mauna Loa and Mauna Kea?"
   ]
  },
  {
   "cell_type": "markdown",
   "metadata": {},
   "source": [
    "![alt text](https://blog.trueaccord.com/wp-content/uploads/2019/08/plain-white-rectangle.png)"
   ]
  },
  {
   "cell_type": "markdown",
   "metadata": {},
   "source": [
    "**(10 points)** Mauna Kea represents an older volcanic system than Mauna Loa. Using you results, explain how Mauna Loa and Mauna Kea fit into the traditionally model of volcanic evolution at ocean islands (i.e., describe the evolution of a volcanic system from the onset of volcanism to the last volcanic event).\n",
    "\n",
    "**Hint** https://www.usgs.gov/observatories/hvo/evolution-hawaiian-volcanoes\n",
    "\n",
    "![alt text](https://th-thumbnailer.cdn-si-edu.com/1batBygMQRJzLkaicvWHL6kMg8U=/fit-in/1072x0/https://tf-cmsv2-smithsonianmag-media.s3.amazonaws.com/filer/Hawaii-Islands-520.jpg)"
   ]
  },
  {
   "cell_type": "markdown",
   "metadata": {},
   "source": [
    "![alt text](https://blog.trueaccord.com/wp-content/uploads/2019/08/plain-white-rectangle.png)"
   ]
  },
  {
   "cell_type": "markdown",
   "metadata": {},
   "source": [
    "## Question 2 - Subduction signature in IABs"
   ]
  },
  {
   "cell_type": "markdown",
   "metadata": {},
   "source": [
    "Island and continental arc magmas display significant differences in their trace element systematics to most MORBs. These differences are observed in several different trace element groups, as well as radiogenic and stable isotope systematics. \n",
    "\n",
    "![alt text](https://ars.els-cdn.com/content/image/1-s2.0-S1674987119300428-gr6.jpg)"
   ]
  },
  {
   "cell_type": "markdown",
   "metadata": {},
   "source": [
    "**(10 points)** Explain the process by which magmas are generated in the mantle wedge above subduction zones. What is meant by the term 'Hydrous Flux Melting'?"
   ]
  },
  {
   "cell_type": "markdown",
   "metadata": {},
   "source": [
    "![alt text](https://blog.trueaccord.com/wp-content/uploads/2019/08/plain-white-rectangle.png)"
   ]
  },
  {
   "cell_type": "markdown",
   "metadata": {},
   "source": [
    "**(5 points)** The LILEs are generally considered to be 'fluid-mobile': i.e., they partition strongly into an aqueous fluid phase at the pressures and temperatures found in subduction zones. As a result, it is hypothesised that the mantle wedge beneath arc volcanoes becomes enriched in these trace elements when metamoprhic reactions in subducting slabs (both crust and mantle sections) causes dehydration and fluid loss in the downgoing slab.\n",
    "\n",
    "On the diagram above, highlight at least 3 LILEs. "
   ]
  },
  {
   "cell_type": "markdown",
   "metadata": {},
   "source": [
    "**(5 points)** High Field Strength Elements (HFSEs) do not partition into aqueous fluids. Instead, these elements are typically retained in the subducting slab by the presence of accessory minerals (e.g., rutile) that strongly partiting these elements. On the diagram above, highlight (with a different color) the location of at least 2 HFSEs."
   ]
  },
  {
   "cell_type": "markdown",
   "metadata": {},
   "source": [
    "**(5 points)** At least three separate chemical components are believed to be important in the genesis of arc basalts. These include (i) the depleted mantle (i.e., the ambient mantle of the mantle wedge); and (ii) slab fluids. What is the third component included in the genesis of arc lavas?"
   ]
  },
  {
   "cell_type": "markdown",
   "metadata": {},
   "source": [
    "![alt text](https://blog.trueaccord.com/wp-content/uploads/2019/08/plain-white-rectangle.png)"
   ]
  },
  {
   "cell_type": "markdown",
   "metadata": {},
   "source": [
    "**(10 points)** Primary arc lavas are often silica oversaturated (quartz tholeiites). In comparison MORBs are typically silica saturated (olivine tholeiites). Using phase diagrams and reference to the basalt tetrahedron explain why lavas generated by hydrous flux melting in subduction zones are typically silica oversaturated.\n",
    "\n",
    "![alt text](https://upload.wikimedia.org/wikipedia/commons/8/82/Basalt_Tetrahedron.png)"
   ]
  },
  {
   "cell_type": "markdown",
   "metadata": {},
   "source": [
    "![alt text](https://blog.trueaccord.com/wp-content/uploads/2019/08/plain-white-rectangle.png)"
   ]
  },
  {
   "cell_type": "markdown",
   "metadata": {},
   "source": [
    "# Calc-alkaline vs tholeiitic differentiation"
   ]
  },
  {
   "cell_type": "markdown",
   "metadata": {},
   "source": [
    "For the rest of this practical we will investigate the origin of tholeiitic and calc-alkaline differentiation trends. The main theories for how calc-alkaline differentiation suites form include: (i) melt mixing - intrusion of basaltic lava into a rhyolitic magma; (ii) crustal melting/assimilation - crustal melts are often silica-rich, mixing of basalts with crustal melts could form the linear trends characteristic of calc-alkaline differentiation suites; (iii) variations in magmatic conditions and/or H$_2$O content control the differentiation sequence.\n",
    "\n",
    "Evidence exists in support of all three hypotheses, but what we want to do in the rest of the lab is to investigate how, exactly, the third hypothesis might work. Tholeiitic trends are characterised by an increase in the FeO content of a magma prior to any significant increase in the melt SiO$_2$, Na$_2$O, or K$_2$O contents. This Fe-enrichment is not seen in calc-alkaline suites. Therefore, we're looking for some variable (e.g., pressure, H$_2$O content, oxygen fugacity) that controls the proportion of an Fe-poor, Si-rich mineral (tholeiite) and an Fe-rich, Si-poor mineral (calc-alkaline) crystallising from an arc magma. \n",
    "\n",
    "For a discussion on the calc-alkaline vs tholeiitic trend please read this article (https://doi.org/10.1093/petrology/egq062https://doi.org/10.1093/petrology/egq062)\n",
    "\n",
    "![alt text](https://www.researchgate.net/profile/Mindy-Zimmer/publication/261511396/figure/fig1/AS:638063881515009@1529137692735/Discrimination-diagrams-for-tholeiitic-TH-and-calc-alkaline-CA-magma-series-a-AFM.png)"
   ]
  },
  {
   "cell_type": "markdown",
   "metadata": {},
   "source": [
    "The Aleutians (with Augustine and Shishaldin volcanoes shown in the figure above) is an interesting place to study the origin of calc-alkaline and tholeiitic differentiation trends as both suites are found along the arc: calc-alkaline trends typically dominate in the NE, where volcanism displays more similarities to continental arc volcanism, rather than island arc volcanism (as in the SW where tholeiitic trends dominate). \n",
    "\n",
    "![alt text](https://www.avo.alaska.edu/volcanoes/intropics/aleumap.gif)"
   ]
  },
  {
   "cell_type": "markdown",
   "metadata": {},
   "source": [
    "Moreover, work looking at several Aleutian volcanoes demonstrated that the tholeiitic index (THI), defined as the ratio of Fe at 4 wt% MgO compared to 8 wt% MgO, is correlated with the H$_2$O content of primitive arc magmas (data from Zimmer et al. 2010). \n",
    "\n",
    "**What we want to do here is understand the cause of this correlation. Why does H$_2$O content influence whether a volcano will have a tholeiitic or calc-alkalin differentiation trend, or is it a case of correlation does not equal causation!?**\n",
    "\n",
    "![alt text](https://oup.silverchair-cdn.com/oup/backfile/Content_public/Journal/petrology/51/12/10.1093_petrology_egq062/2/egq062f7.jpeg?Expires=1675107960&Signature=3hxnFlPBt0030iGoGwZ55WDiS8FgrlGEDYkX2o1L9OZD8ZH-lFLjLfXZwW1I8kgLaXUDfWLBf0eRU2NyGx862BOhJ7HHwJOhXd3j~~9b3nchy-sQmcjH7Xn9loey0GCTmeFjLM11Dbd4YSndW7Je6xbpnU9RBDzxr3FIczWS1dvCgu-i5iudSUhdrbnhjwUVMfoKC9oCSSM-meBXKVhisMfLXOJIo7hfgnDiqq2g6tLKREUXpOPhWY7DO02rHg~x~dVZcLIJMlNlHS2k8NyNraRChaMR0oEgkT-bb1rUcyCXpLQB7CGXweMQAuMkOCYfkqxpV8Nnl276mXysAw86iw__&Key-Pair-Id=APKAIE5G5CRDK6RD3PGA)\n",
    "\n"
   ]
  },
  {
   "cell_type": "markdown",
   "metadata": {},
   "source": [
    "To answer this question, we need to do some modelling!\n",
    "\n",
    "In igneous petrology, we often use a program called MELTS to simulate what happens during fractional crystallisation of a magma. MELTS is, in essence, a large thermodynamic database that solves, for a given temperature, pressure, and composition, the lowest energy state of the system (think back to lab 1, but imagine doing those calculations for a system that has 11 chemical components and could form over 50 different phases).\n",
    "\n",
    "This allows us to use MELTS to predict what phases will crystallise from a magma at a given pressure and temperature. We don't need to worry too much about what is going on in the background of MELTS (there are very few people that truly understand this). What we do need to know is that MELTS represents one of the best models for predicting phase stability in igneous systems. It is far from perfect, but it does correctly predict the overall influence of internal parameters (such as pressure of melt H$_2$O content) on phase stability.\n",
    "\n",
    "Another important factor is that new developments allow the MELTS algorithms to be easily be accessed from Python3! This means that we can use MELTS to investigate the influence of melt H$_2$O contents on calc-alkaline vs tholeiitic differentiation in the lab! "
   ]
  },
  {
   "cell_type": "markdown",
   "metadata": {},
   "source": [
    "First thing we need to do is make sure that we have the MELTS packages installed. This includes installing the latest version of pyMELTScalc - a 'frontend' application that allows us to access the MELTS algorithms. This can be installed using (just remove the '#'):"
   ]
  },
  {
   "cell_type": "code",
   "execution_count": 4,
   "metadata": {},
   "outputs": [],
   "source": [
    "#!pip install \"https://github.com/gleesonm1/pyMELTScalc/archive/refs/tags/v0.0.17.zip\""
   ]
  },
  {
   "cell_type": "markdown",
   "metadata": {},
   "source": [
    "Next, you need to make sure that the MELTS database files, which are available on bcourses, are downloaded an placed somewhere on your PC/Mac. It'll be easiest if the MELTS folder on bcourses is downloaded and placed in the same folder as this notebook - then you need to make sure Python known where to find the MELTS files. This is done using:"
   ]
  },
  {
   "cell_type": "code",
   "execution_count": 5,
   "metadata": {},
   "outputs": [],
   "source": [
    "import sys\n",
    "sys.path.append('MELTS')"
   ]
  },
  {
   "cell_type": "markdown",
   "metadata": {},
   "source": [
    "Now we have all the required code, so we can start thinking about the calculations we want to run. TO run a fractional crystallisation model, we need a few different things. Most importantly, we need an initial melt/magma composition. For these calculations we'll use a high-MgO melt composition measured in a plagioclase-hosted melt inclusion from Okmok volcano (which lies near the tholeiitic - calc-alkaline divide). True data from both Augustine and Shishaldin volcanoes are also loaded:"
   ]
  },
  {
   "cell_type": "code",
   "execution_count": 6,
   "metadata": {},
   "outputs": [],
   "source": [
    "# First load the real-world data\n",
    "Aleutians = pd.read_excel(\"Aleutians.xlsx\")\n",
    "Aleutians['Na+K'] = Aleutians['Na2O_Liq'] + Aleutians['K2O_Liq']\n",
    "\n",
    "# Split into 2 dataframes, one for each volcano\n",
    "Augustine = Aleutians.copy()\n",
    "Augustine = Augustine[Augustine['Volcano'] == \"Augustine\"]\n",
    "Augustine = Augustine.reset_index(drop = True)\n",
    "\n",
    "Shishaldin = Aleutians.copy()\n",
    "Shishaldin = Shishaldin[Shishaldin['Volcano'] == \"Shishaldin\"]\n",
    "Shishaldin = Shishaldin.reset_index(drop = True)\n",
    "\n",
    "# compositions are inputed as a dictionary\n",
    "comp = {'SiO2_Liq': 50.04,\n",
    "       'TiO2_Liq': 0.81,\n",
    "       'Al2O3_Liq': 15.01,\n",
    "       'FeOt_Liq': 9.62,\n",
    "       'MnO_Liq': 0.16,\n",
    "       'MgO_Liq': 7.28,\n",
    "       'CaO_Liq': 11.52,\n",
    "       'Na2O_Liq': 2.54,\n",
    "       'K2O_Liq': 0.30,\n",
    "       'P2O5_Liq': 0.06}"
   ]
  },
  {
   "cell_type": "markdown",
   "metadata": {},
   "source": [
    "We also need to define the pressure of crystallisation, the oxygen fugacity of the melt, and the final temperature of the model (calculations will start at the melt liquidus). For these calculations, we'll assume crystallisation at 3500 bars (~10 - 12 km depth), with an oxygen fugacity at 0.5 log units below the FMQ buffer. The final temperature of the crystallisation model is set at 850$^o$C."
   ]
  },
  {
   "cell_type": "code",
   "execution_count": 7,
   "metadata": {},
   "outputs": [],
   "source": [
    "P_bar = 4500\n",
    "T_end_C = 900\n",
    "fO2_buffer = \"FMQ\"\n",
    "fO2_offset = -0.5"
   ]
  },
  {
   "cell_type": "markdown",
   "metadata": {},
   "source": [
    "With this information, we can now run a fractional crystallisation model and plot up the results. Fractional crystallisation calculations are performed using the pyMELTScalc package and the 'multi_path' function:"
   ]
  },
  {
   "cell_type": "code",
   "execution_count": 8,
   "metadata": {},
   "outputs": [
    {
     "ename": "Warning",
     "evalue": "Adding small amounts of H$_{2}$O may improve the ability of MELTS to accurately reproduce the saturation of oxide minerals. Additionally, sufficient H$_{2}$O is required in the model for MELTS to predict the crystallisation of apatite, rather than whitlockite.",
     "output_type": "error",
     "traceback": [
      "\u001b[1;31m---------------------------------------------------------------------------\u001b[0m",
      "\u001b[1;31mWarning\u001b[0m                                   Traceback (most recent call last)",
      "\u001b[1;32mC:\\Users\\MATTGL~1\\AppData\\Local\\Temp/ipykernel_29140/2454949966.py\u001b[0m in \u001b[0;36m<module>\u001b[1;34m\u001b[0m\n\u001b[0;32m      1\u001b[0m \u001b[1;32mimport\u001b[0m \u001b[0mpyMELTScalc\u001b[0m \u001b[1;32mas\u001b[0m \u001b[0mM\u001b[0m\u001b[1;33m\u001b[0m\u001b[1;33m\u001b[0m\u001b[0m\n\u001b[1;32m----> 2\u001b[1;33m Results = M.multi_path(Model = \"MELTSv1.0.2\", comp = comp, \n\u001b[0m\u001b[0;32m      3\u001b[0m                        \u001b[0mP_bar\u001b[0m \u001b[1;33m=\u001b[0m \u001b[0mP_bar\u001b[0m\u001b[1;33m,\u001b[0m \u001b[0mT_end_C\u001b[0m \u001b[1;33m=\u001b[0m \u001b[0mT_end_C\u001b[0m\u001b[1;33m,\u001b[0m \u001b[0mfO2_buffer\u001b[0m \u001b[1;33m=\u001b[0m \u001b[0mfO2_buffer\u001b[0m\u001b[1;33m,\u001b[0m \u001b[0mfO2_offset\u001b[0m \u001b[1;33m=\u001b[0m \u001b[0mfO2_offset\u001b[0m\u001b[1;33m,\u001b[0m\u001b[1;33m\u001b[0m\u001b[1;33m\u001b[0m\u001b[0m\n\u001b[0;32m      4\u001b[0m                       dt_C = 2, find_liquidus = True, Frac_solid = True, Frac_fluid = True)\n\u001b[0;32m      5\u001b[0m \u001b[1;33m\u001b[0m\u001b[0m\n",
      "\u001b[1;32mh:\\my drive\\2022\\github\\pymeltscalc\\src\\pyMELTScalc\\Path.py\u001b[0m in \u001b[0;36mmulti_path\u001b[1;34m(cores, Model, comp, Frac_solid, Frac_fluid, T_C, T_path_C, T_start_C, T_end_C, dt_C, P_bar, P_path_bar, P_start_bar, P_end_bar, dp_bar, Fe3Fet_Liq, H2O_Liq, isenthalpic, isentropic, isochoric, find_liquidus, fO2_buffer, fO2_offset, Print_suppress, fluid_sat)\u001b[0m\n\u001b[0;32m    113\u001b[0m     \u001b[1;32mif\u001b[0m \u001b[0mtype\u001b[0m\u001b[1;33m(\u001b[0m\u001b[0mcomp\u001b[0m\u001b[1;33m)\u001b[0m \u001b[1;33m==\u001b[0m \u001b[0mdict\u001b[0m\u001b[1;33m:\u001b[0m\u001b[1;33m\u001b[0m\u001b[1;33m\u001b[0m\u001b[0m\n\u001b[0;32m    114\u001b[0m         \u001b[1;32mif\u001b[0m \u001b[0mcomp\u001b[0m\u001b[1;33m[\u001b[0m\u001b[1;34m'H2O_Liq'\u001b[0m\u001b[1;33m]\u001b[0m \u001b[1;33m==\u001b[0m \u001b[1;36m0.0\u001b[0m \u001b[1;32mand\u001b[0m \u001b[1;34m\"MELTS\"\u001b[0m \u001b[1;32min\u001b[0m \u001b[0mModel\u001b[0m\u001b[1;33m:\u001b[0m\u001b[1;33m\u001b[0m\u001b[1;33m\u001b[0m\u001b[0m\n\u001b[1;32m--> 115\u001b[1;33m             \u001b[1;32mraise\u001b[0m \u001b[0mWarning\u001b[0m\u001b[1;33m(\u001b[0m\u001b[1;34m\"Adding small amounts of H$_{2}$O may improve the ability of MELTS to accurately reproduce the saturation of oxide minerals. Additionally, sufficient H$_{2}$O is required in the model for MELTS to predict the crystallisation of apatite, rather than whitlockite.\"\u001b[0m\u001b[1;33m)\u001b[0m\u001b[1;33m\u001b[0m\u001b[1;33m\u001b[0m\u001b[0m\n\u001b[0m\u001b[0;32m    116\u001b[0m \u001b[1;33m\u001b[0m\u001b[0m\n\u001b[0;32m    117\u001b[0m         \u001b[1;32mif\u001b[0m \u001b[0mcomp\u001b[0m\u001b[1;33m[\u001b[0m\u001b[1;34m'Fe3Fet_Liq'\u001b[0m\u001b[1;33m]\u001b[0m \u001b[1;33m==\u001b[0m \u001b[1;36m0.0\u001b[0m \u001b[1;32mand\u001b[0m \u001b[1;34m\"MELTS\"\u001b[0m \u001b[1;32min\u001b[0m \u001b[0mModel\u001b[0m \u001b[1;32mand\u001b[0m \u001b[0mfO2_buffer\u001b[0m \u001b[1;32mis\u001b[0m \u001b[1;32mNone\u001b[0m\u001b[1;33m:\u001b[0m\u001b[1;33m\u001b[0m\u001b[1;33m\u001b[0m\u001b[0m\n",
      "\u001b[1;31mWarning\u001b[0m: Adding small amounts of H$_{2}$O may improve the ability of MELTS to accurately reproduce the saturation of oxide minerals. Additionally, sufficient H$_{2}$O is required in the model for MELTS to predict the crystallisation of apatite, rather than whitlockite."
     ]
    }
   ],
   "source": [
    "import pyMELTScalc as M\n",
    "Results = M.multi_path(Model = \"MELTSv1.0.2\", comp = comp, \n",
    "                       P_bar = P_bar, T_end_C = T_end_C, fO2_buffer = fO2_buffer, fO2_offset = fO2_offset,\n",
    "                      dt_C = 2, find_liquidus = True, Frac_solid = True, Frac_fluid = True)\n",
    "\n",
    "# the first 2 lines of this function involve loading in all the parameters we just set out (e.g., composition)\n",
    "# the final line of the code tells it to perform fractional crystallistaion starting at the melt liquidus"
   ]
  },
  {
   "cell_type": "markdown",
   "metadata": {},
   "source": [
    "Opps!\n",
    "\n",
    "You probably got an error when you tried to run that line. That's because the MELTS algorithms arn't particular good when no water is included in the MELTS algorithm. Lets try that again, but this time we'll define a new parameter 'H2O_Liq', the H2O content of the initial melt phase. We'll start with a H$_2$O content of 2 w%, approximately the minimum H$_2$O content found in primary melts from any of the Aleutian volcanoes."
   ]
  },
  {
   "cell_type": "code",
   "execution_count": 9,
   "metadata": {},
   "outputs": [
    {
     "name": "stdout",
     "output_type": "stream",
     "text": [
      "Running MELTSv1.2.0 calculation... Complete (time taken = 30.09 seconds)"
     ]
    }
   ],
   "source": [
    "H2O_Liq = 2\n",
    "Results = M.multi_path(Model = \"MELTSv1.2.0\", comp = comp, H2O_Liq = H2O_Liq,\n",
    "                       P_bar = P_bar, T_end_C = T_end_C, fO2_buffer = fO2_buffer, fO2_offset = fO2_offset,\n",
    "                      dt_C = 2, find_liquidus = True, Frac_solid = True, Frac_fluid = True)"
   ]
  },
  {
   "cell_type": "markdown",
   "metadata": {},
   "source": [
    "Depending on your computer, that model should take about 30 - 50 seconds. If it's taking much much longer let me know!\n",
    "\n",
    "We can now look at the results. We'll be doing this by looking the classic plot of FeO$_t$/MgO vs SiO$_2$ and comparing our results to data from Augustine and Shishaldin, the archetypal calc-alkaline and tholeiitic systems of the Aleutian arc:"
   ]
  },
  {
   "cell_type": "code",
   "execution_count": 10,
   "metadata": {},
   "outputs": [
    {
     "data": {
      "text/plain": [
       "<matplotlib.legend.Legend at 0x16010ecf5b0>"
      ]
     },
     "execution_count": 10,
     "metadata": {},
     "output_type": "execute_result"
    },
    {
     "name": "stderr",
     "output_type": "stream",
     "text": [
      "findfont: Font family ['cmsy10'] not found. Falling back to DejaVu Sans.\n",
      "findfont: Font family ['cmr10'] not found. Falling back to DejaVu Sans.\n",
      "findfont: Font family ['cmtt10'] not found. Falling back to DejaVu Sans.\n",
      "findfont: Font family ['cmmi10'] not found. Falling back to DejaVu Sans.\n",
      "findfont: Font family ['cmb10'] not found. Falling back to DejaVu Sans.\n",
      "findfont: Font family ['cmss10'] not found. Falling back to DejaVu Sans.\n",
      "findfont: Font family ['cmex10'] not found. Falling back to DejaVu Sans.\n"
     ]
    },
    {
     "data": {
      "image/png": "[encoded data removed]",
      "text/plain": [
       "<Figure size 432x360 with 1 Axes>"
      ]
     },
     "metadata": {
      "needs_background": "light"
     },
     "output_type": "display_data"
    }
   ],
   "source": [
    "# first plot the real-world data.\n",
    "f, a = plt.subplots(1,1, figsize = (6,5))\n",
    "a.plot(Augustine['SiO2_Liq'], \n",
    "       Augustine['FeOt_Liq']/Augustine['MgO_Liq'],\n",
    "       'sk', mfc = 'w', label = \"Augustine\")\n",
    "\n",
    "a.plot(Shishaldin['SiO2_Liq'], \n",
    "       Shishaldin['FeOt_Liq']/Shishaldin['MgO_Liq'],\n",
    "       'sk', mfc = 'k', label = \"Shishaldin\")\n",
    "\n",
    "# now add in the MELTS results\n",
    "a.plot(Results['All']['SiO2_Liq'],\n",
    "      Results['All']['FeOt_Liq']/Results['All']['MgO_Liq'],\n",
    "      '-r')\n",
    "\n",
    "# add in T-CA divide\n",
    "a.plot([45, 60], [0.4, 3.3], '--k')\n",
    "\n",
    "# add in labels and legend\n",
    "a.set_xlabel('SiO$_2$ (wt%)')\n",
    "a.set_ylabel('FeO$_t$/MgO')\n",
    "a.legend()"
   ]
  },
  {
   "cell_type": "markdown",
   "metadata": {},
   "source": [
    "The results here clearly show the MELTS predictions staying on the tholeiite side of the T-CA divide. \n",
    "\n",
    "**(40 points)** Repeat these calculations with different H$_2$O contents (i.e., change H2O_Liq) and replot the results. Can changing H$_2$O contents shift the differentiation trend from tholeiite to calc-alkaline? \n",
    "\n",
    "In addition to the FeO/MgO vs SiO2 diagram, also plot MgO (x-axis) vs FeO, Al2O3, and TiO2 (and any other oxides you think might be useful; example below) for each model. Try also plotting the MgO content against the mass of each phase. Using this information describe how the H$_2$O content of the melt influences the stability of plagioclase (**contains ~30wt% Al$_2$O$_3$**) and oxides (spinel; **contain no SiO$_2$**). Does the melt H$_2$O content influence the Fe-enrichment seen? Why?\n",
    "\n",
    "**Hint** to access the mass of each phase at each step type: Results['Mass']"
   ]
  },
  {
   "cell_type": "markdown",
   "metadata": {},
   "source": [
    "![alt text](https://blog.trueaccord.com/wp-content/uploads/2019/08/plain-white-rectangle.png)"
   ]
  },
  {
   "cell_type": "code",
   "execution_count": 11,
   "metadata": {},
   "outputs": [
    {
     "data": {
      "image/png": "[encoded data removed]",
      "text/plain": [
       "<Figure size 756x504 with 6 Axes>"
      ]
     },
     "metadata": {
      "needs_background": "light"
     },
     "output_type": "display_data"
    }
   ],
   "source": [
    "# Example of MgO variation diagrams (this is using a function built into pyMELTScalc so it's easy!)\n",
    "M.harker(Results = Results, x_axis = \"MgO\", y_axis = ['FeOt', 'Al2O3', 'TiO2', 'CaO', 'Na2O', 'SiO2'])"
   ]
  },
  {
   "cell_type": "code",
   "execution_count": 14,
   "metadata": {},
   "outputs": [
    {
     "data": {
      "text/plain": [
       "Text(0, 0.5, 'Mass of Oxide (%)')"
      ]
     },
     "execution_count": 14,
     "metadata": {},
     "output_type": "execute_result"
    },
    {
     "data": {
      "image/png": "[encoded data removed]",
      "text/plain": [
       "<Figure size 648x288 with 2 Axes>"
      ]
     },
     "metadata": {
      "needs_background": "light"
     },
     "output_type": "display_data"
    }
   ],
   "source": [
    "f, a = plt.subplots(1,2, figsize = (9,4))\n",
    "a[0].plot(Results['All']['MgO_Liq'],\n",
    "         Results['Mass']['plagioclase1_sum'], '-k')\n",
    "a[0].set_xlabel('MgO (wt%)')\n",
    "a[0].set_ylabel('Mass of Plagioclase (%)')\n",
    "\n",
    "a[1].plot(Results['All']['MgO_Liq'],\n",
    "         Results['Mass']['spinel1_sum'], '-k')\n",
    "a[1].set_xlabel('MgO (wt%)')\n",
    "a[1].set_ylabel('Mass of Oxide (%)')"
   ]
  },
  {
   "cell_type": "markdown",
   "metadata": {},
   "source": [
    "**(30 points)** Globally, the H$_2$O content of mantle melts appears to correlate with their oxygen fugacity (which controls he Fe$^{3+}$/Fe$_{tot}$ ratio of magmas). Try varying the fO2_offset value in the MELTS calculations and see how this influences the differentiation trends. Does the *f*O$_2$ of the system influence whether a calc-alkaline or tholeiitic differentiation trend is seen (and can you explain why)?\n",
    "\n",
    "**hint 1** re-run the models, but this time vary the fO2_offset parameter from -2 to 2. Keep H$_2$O at 4 wt%.\n",
    "\n",
    "**hint 2** plot up the MgO vs oxide and MgO vs phase mass diagrams again. Focus on the rise in SiO$_2$ in oxidised models and what causes this."
   ]
  },
  {
   "cell_type": "markdown",
   "metadata": {},
   "source": [
    "![alt text](https://blog.trueaccord.com/wp-content/uploads/2019/08/plain-white-rectangle.png)"
   ]
  },
  {
   "cell_type": "markdown",
   "metadata": {},
   "source": [
    "**(10 points)** Comment on your results and how these relate to the correlation between H$_2$O and the THI index in Zimmer et al. (2010). A good idea would be to look at figures 7b and 9a in Zimmer et al. (2010). https://doi.org/10.1093/petrology/egq062https://doi.org/10.1093/petrology/egq062"
   ]
  },
  {
   "cell_type": "markdown",
   "metadata": {},
   "source": [
    "![alt text](https://blog.trueaccord.com/wp-content/uploads/2019/08/plain-white-rectangle.png)"
   ]
  }
 ],
 "metadata": {
  "kernelspec": {
   "display_name": "Python 3 (ipykernel)",
   "language": "python",
   "name": "python3"
  },
  "language_info": {
   "codemirror_mode": {
    "name": "ipython",
    "version": 3
   },
   "file_extension": ".py",
   "mimetype": "text/x-python",
   "name": "python",
   "nbconvert_exporter": "python",
   "pygments_lexer": "ipython3",
   "version": "3.8.12"
  }
 },
 "nbformat": 4,
 "nbformat_minor": 4
}
